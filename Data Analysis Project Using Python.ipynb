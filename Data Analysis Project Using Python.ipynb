{
 "cells": [
  {
   "cell_type": "markdown",
   "id": "3249b764-2f49-4b60-9ae9-30acb20f2869",
   "metadata": {},
   "source": [
    "**Task 1:DATA ANALYSIS AND DATA SCIENCE USING PYTHON**"
   ]
  },
  {
   "cell_type": "markdown",
   "id": "0dd90a40-06f0-4515-bfe4-60ef206b7b48",
   "metadata": {},
   "source": [
    "**Objective:**\n",
    "**Analyze a dataset of student exam scores and answer specific questions, presenting findings using Python libraries and techniques for data analysis.**"
   ]
  },
  {
   "cell_type": "code",
   "execution_count": 52,
   "id": "c8b8a151-ee72-4830-aa2d-7be92b351c50",
   "metadata": {},
   "outputs": [
    {
     "name": "stdout",
     "output_type": "stream",
     "text": [
      "  school sex  age address famsize Pstatus  Medu  Fedu      Mjob      Fjob  \\\n",
      "0     GP   F   18       U     GT3       A     4     4   at_home   teacher   \n",
      "1     GP   F   17       U     GT3       T     1     1   at_home     other   \n",
      "2     GP   F   15       U     LE3       T     1     1   at_home     other   \n",
      "3     GP   F   15       U     GT3       T     4     2    health  services   \n",
      "4     GP   F   16       U     GT3       T     3     3     other     other   \n",
      "5     GP   M   16       U     LE3       T     4     3  services     other   \n",
      "6     GP   M   16       U     LE3       T     2     2     other     other   \n",
      "7     GP   F   17       U     GT3       A     4     4     other   teacher   \n",
      "8     GP   M   15       U     LE3       A     3     2  services     other   \n",
      "9     GP   M   15       U     GT3       T     3     4     other     other   \n",
      "\n",
      "   ... famrel freetime  goout  Dalc  Walc health absences  G1  G2  G3  \n",
      "0  ...      4        3      4     1     1      3        6   5   6   6  \n",
      "1  ...      5        3      3     1     1      3        4   5   5   6  \n",
      "2  ...      4        3      2     2     3      3       10   7   8  10  \n",
      "3  ...      3        2      2     1     1      5        2  15  14  15  \n",
      "4  ...      4        3      2     1     2      5        4   6  10  10  \n",
      "5  ...      5        4      2     1     2      5       10  15  15  15  \n",
      "6  ...      4        4      4     1     1      3        0  12  12  11  \n",
      "7  ...      4        1      4     1     1      1        6   6   5   6  \n",
      "8  ...      4        2      2     1     1      1        0  16  18  19  \n",
      "9  ...      5        5      1     1     1      5        0  14  15  15  \n",
      "\n",
      "[10 rows x 33 columns]\n",
      "    school sex  age address famsize Pstatus  Medu  Fedu      Mjob      Fjob  \\\n",
      "385     MS   F   18       R     GT3       T     2     2   at_home     other   \n",
      "386     MS   F   18       R     GT3       T     4     4   teacher   at_home   \n",
      "387     MS   F   19       R     GT3       T     2     3  services     other   \n",
      "388     MS   F   18       U     LE3       T     3     1   teacher  services   \n",
      "389     MS   F   18       U     GT3       T     1     1     other     other   \n",
      "390     MS   M   20       U     LE3       A     2     2  services  services   \n",
      "391     MS   M   17       U     LE3       T     3     1  services  services   \n",
      "392     MS   M   21       R     GT3       T     1     1     other     other   \n",
      "393     MS   M   18       R     LE3       T     3     2  services     other   \n",
      "394     MS   M   19       U     LE3       T     1     1     other   at_home   \n",
      "\n",
      "     ... famrel freetime  goout  Dalc  Walc health absences  G1  G2  G3  \n",
      "385  ...      5        3      3     1     3      4        2  10   9  10  \n",
      "386  ...      4        4      3     2     2      5        7   6   5   6  \n",
      "387  ...      5        4      2     1     2      5        0   7   5   0  \n",
      "388  ...      4        3      4     1     1      1        0   7   9   8  \n",
      "389  ...      1        1      1     1     1      5        0   6   5   0  \n",
      "390  ...      5        5      4     4     5      4       11   9   9   9  \n",
      "391  ...      2        4      5     3     4      2        3  14  16  16  \n",
      "392  ...      5        5      3     3     3      3        3  10   8   7  \n",
      "393  ...      4        4      1     3     4      5        0  11  12  10  \n",
      "394  ...      3        2      3     3     3      5        5   8   9   9  \n",
      "\n",
      "[10 rows x 33 columns]\n"
     ]
    }
   ],
   "source": [
    "import pandas as pd\n",
    "import numpy as np\n",
    "import matplotlib.pyplot as plt\n",
    "import seaborn as sns\n",
    "\n",
    "df = pd.read_csv('student-mat.csv',sep=';')\n",
    "print(df.head(10))\n",
    "print(df.tail(10))"
   ]
  },
  {
   "cell_type": "markdown",
   "id": "60f86c2a-5bef-4153-93b1-514259bbfb6b",
   "metadata": {},
   "source": [
    "**Data exploration**"
   ]
  },
  {
   "cell_type": "code",
   "execution_count": 53,
   "id": "b8e80c40-98f2-4a46-8c2b-f0eca3d7a62c",
   "metadata": {},
   "outputs": [
    {
     "data": {
      "text/plain": [
       "school        0\n",
       "sex           0\n",
       "age           0\n",
       "address       0\n",
       "famsize       0\n",
       "Pstatus       0\n",
       "Medu          0\n",
       "Fedu          0\n",
       "Mjob          0\n",
       "Fjob          0\n",
       "reason        0\n",
       "guardian      0\n",
       "traveltime    0\n",
       "studytime     0\n",
       "failures      0\n",
       "schoolsup     0\n",
       "famsup        0\n",
       "paid          0\n",
       "activities    0\n",
       "nursery       0\n",
       "higher        0\n",
       "internet      0\n",
       "romantic      0\n",
       "famrel        0\n",
       "freetime      0\n",
       "goout         0\n",
       "Dalc          0\n",
       "Walc          0\n",
       "health        0\n",
       "absences      0\n",
       "G1            0\n",
       "G2            0\n",
       "G3            0\n",
       "dtype: int64"
      ]
     },
     "execution_count": 53,
     "metadata": {},
     "output_type": "execute_result"
    }
   ],
   "source": [
    "#To find missing values\n",
    "df.isnull().sum()"
   ]
  },
  {
   "cell_type": "code",
   "execution_count": 54,
   "id": "324833ad-f38f-428c-8ef0-9b6897a42378",
   "metadata": {},
   "outputs": [
    {
     "data": {
      "text/plain": [
       "school        object\n",
       "sex           object\n",
       "age            int64\n",
       "address       object\n",
       "famsize       object\n",
       "Pstatus       object\n",
       "Medu           int64\n",
       "Fedu           int64\n",
       "Mjob          object\n",
       "Fjob          object\n",
       "reason        object\n",
       "guardian      object\n",
       "traveltime     int64\n",
       "studytime      int64\n",
       "failures       int64\n",
       "schoolsup     object\n",
       "famsup        object\n",
       "paid          object\n",
       "activities    object\n",
       "nursery       object\n",
       "higher        object\n",
       "internet      object\n",
       "romantic      object\n",
       "famrel         int64\n",
       "freetime       int64\n",
       "goout          int64\n",
       "Dalc           int64\n",
       "Walc           int64\n",
       "health         int64\n",
       "absences       int64\n",
       "G1             int64\n",
       "G2             int64\n",
       "G3             int64\n",
       "dtype: object"
      ]
     },
     "execution_count": 54,
     "metadata": {},
     "output_type": "execute_result"
    }
   ],
   "source": [
    "#data types\n",
    "df.dtypes"
   ]
  },
  {
   "cell_type": "code",
   "execution_count": 55,
   "id": "57e6aaaa-0595-4559-ac0d-eec37875eafd",
   "metadata": {},
   "outputs": [
    {
     "data": {
      "text/plain": [
       "(395, 33)"
      ]
     },
     "execution_count": 55,
     "metadata": {},
     "output_type": "execute_result"
    }
   ],
   "source": [
    "# To find size of dataset\n",
    "df.shape"
   ]
  },
  {
   "cell_type": "markdown",
   "id": "53bdb246-692b-4bb3-a31c-d9167a67133a",
   "metadata": {},
   "source": [
    "**Data cleaning**"
   ]
  },
  {
   "cell_type": "code",
   "execution_count": 56,
   "id": "7bad0bd7-c664-40f2-9997-a0d963c13448",
   "metadata": {},
   "outputs": [
    {
     "data": {
      "text/plain": [
       "(395, 33)"
      ]
     },
     "execution_count": 56,
     "metadata": {},
     "output_type": "execute_result"
    }
   ],
   "source": [
    "# To find missing values\n",
    "df=df.dropna()\n",
    "df=df.drop_duplicates()\n",
    "df.shape"
   ]
  },
  {
   "cell_type": "markdown",
   "id": "b4e43049-366d-4807-ab09-b1e2c12a70bd",
   "metadata": {},
   "source": [
    "**Data analysis qestions**"
   ]
  },
  {
   "cell_type": "code",
   "execution_count": 57,
   "id": "2bc623b4-4dbe-4b5b-83b5-9f6ad7b582b4",
   "metadata": {},
   "outputs": [
    {
     "name": "stdout",
     "output_type": "stream",
     "text": [
      "Index(['school', 'sex', 'age', 'address', 'famsize', 'Pstatus', 'Medu', 'Fedu',\n",
      "       'Mjob', 'Fjob', 'reason', 'guardian', 'traveltime', 'studytime',\n",
      "       'failures', 'schoolsup', 'famsup', 'paid', 'activities', 'nursery',\n",
      "       'higher', 'internet', 'romantic', 'famrel', 'freetime', 'goout', 'Dalc',\n",
      "       'Walc', 'health', 'absences', 'G1', 'G2', 'G3'],\n",
      "      dtype='object')\n"
     ]
    }
   ],
   "source": [
    "print(df.columns)"
   ]
  },
  {
   "cell_type": "code",
   "execution_count": 58,
   "id": "452848bc-bd9b-4fed-9992-76f4c99ec956",
   "metadata": {},
   "outputs": [
    {
     "data": {
      "text/plain": [
       "10.415189873417722"
      ]
     },
     "execution_count": 58,
     "metadata": {},
     "output_type": "execute_result"
    }
   ],
   "source": [
    "# 1) what is the average score in math(G3) ?\n",
    "average_g3=df['G3'].mean()\n",
    "average_g3"
   ]
  },
  {
   "cell_type": "code",
   "execution_count": 59,
   "id": "8184c1ac-967e-4805-9fad-00d924f2a85b",
   "metadata": {},
   "outputs": [
    {
     "data": {
      "text/plain": [
       "40"
      ]
     },
     "execution_count": 59,
     "metadata": {},
     "output_type": "execute_result"
    }
   ],
   "source": [
    "# 2) How many students scored above 15 in their final score (G3)?\n",
    "above_15=df[df['G3']>15].shape[0]\n",
    "above_15"
   ]
  },
  {
   "cell_type": "code",
   "execution_count": 60,
   "id": "0485fe65-bcb1-43fd-9e7e-754a07bb7860",
   "metadata": {},
   "outputs": [
    {
     "name": "stdout",
     "output_type": "stream",
     "text": [
      " Correlation between studytime and the final grade 0.0978196896531963\n"
     ]
    }
   ],
   "source": [
    "#3) Is there a correlation between study time(studytime) and the final grade(G3) ?\n",
    "correlation=df[\"studytime\"].corr(df[\"G3\"])\n",
    "print(\" Correlation between studytime and the final grade\", correlation)"
   ]
  },
  {
   "cell_type": "code",
   "execution_count": 61,
   "id": "9d9bdd35-9eba-4d5b-bf9c-46c8f39f49ac",
   "metadata": {},
   "outputs": [
    {
     "name": "stdout",
     "output_type": "stream",
     "text": [
      "sex\n",
      "F     9.966346\n",
      "M    10.914439\n",
      "Name: G3, dtype: float64\n"
     ]
    }
   ],
   "source": [
    "# 4) Which gender has a higher average final grade(G3)?\n",
    "gender_avg=df.groupby('sex')['G3'].mean()\n",
    "print(gender_avg)"
   ]
  },
  {
   "cell_type": "markdown",
   "id": "b3b43aca-69e5-484e-9af7-add1a8b6fad3",
   "metadata": {},
   "source": [
    "**Data visualization**"
   ]
  },
  {
   "cell_type": "markdown",
   "id": "998d95e4-196c-4c90-826b-1af0d9c98a15",
   "metadata": {},
   "source": [
    "#histogram\n",
    "1) Plot a histogram of final grades(G3). \n",
    "\n",
    "      * A histogram shows the distribution of students' final grades.\n",
    "      * It helps you see how grades are spread out "
   ]
  },
  {
   "cell_type": "code",
   "execution_count": 62,
   "id": "a976cff4-3ace-43ea-a829-c058972a3392",
   "metadata": {},
   "outputs": [
    {
     "data": {
      "image/png": "[encoded data removed]",
      "text/plain": [
       "<Figure size 800x500 with 1 Axes>"
      ]
     },
     "metadata": {},
     "output_type": "display_data"
    }
   ],
   "source": [
    "plt.figure(figsize=(8, 5))\n",
    "plt.hist(df['G3'], bins=10, color='skyblue', edgecolor='black')\n",
    "plt.title('Distribution of Final Grades (G3)')\n",
    "plt.xlabel('G3 Score')\n",
    "plt.ylabel('Number of Students')\n",
    "plt.grid(True)\n",
    "plt.show()"
   ]
  },
  {
   "cell_type": "markdown",
   "id": "7ea3caef-fbdd-4adf-897a-de799c139d09",
   "metadata": {},
   "source": [
    "#scatter plot\n",
    "\n",
    "2) Create a scatter plot between study time and final grade.\n",
    "      * A scatter plot helps visualize the relationship (correlation) between two variables."
   ]
  },
  {
   "cell_type": "code",
   "execution_count": 63,
   "id": "7ea51d94-a561-46a0-bd83-41ea85fcba7f",
   "metadata": {},
   "outputs": [
    {
     "data": {
      "image/png": "[encoded data removed]",
      "text/plain": [
       "<Figure size 800x500 with 1 Axes>"
      ]
     },
     "metadata": {},
     "output_type": "display_data"
    }
   ],
   "source": [
    "plt.figure(figsize=(8, 5))\n",
    "sns.scatterplot(x='studytime', y='G3', data=df, hue='sex')\n",
    "plt.title('Study Time vs Final Grade')\n",
    "plt.xlabel('Study Time')\n",
    "plt.ylabel('Final Grade (G3)')\n",
    "plt.grid(True)\n",
    "plt.show()"
   ]
  },
  {
   "cell_type": "markdown",
   "id": "427d55e1-c5f6-4ed5-af29-63eb587dd8f0",
   "metadata": {},
   "source": [
    "#Box plot\n",
    "\n",
    " 3) Create a bar chart comparing the average scores of male and female students.\n",
    "\n",
    "      * A bar chart is great for comparing categorical groups."
   ]
  },
  {
   "cell_type": "code",
   "execution_count": 64,
   "id": "5cac841d-2162-467d-9f7c-97e41731c3fb",
   "metadata": {},
   "outputs": [
    {
     "data": {
      "image/png": "[encoded data removed]",
      "text/plain": [
       "<Figure size 600x500 with 1 Axes>"
      ]
     },
     "metadata": {},
     "output_type": "display_data"
    }
   ],
   "source": [
    "plt.figure(figsize=(6, 5))\n",
    "sns.barplot(x=gender_avg.index, y=gender_avg.values)\n",
    "plt.title('Average Final Grade by Gender')\n",
    "plt.xlabel('Gender')\n",
    "plt.ylabel('Average G3')\n",
    "plt.show()"
   ]
  },
  {
   "cell_type": "code",
   "execution_count": null,
   "id": "32ad3c4d-c4cf-4a7d-84d7-c1511649e9dc",
   "metadata": {},
   "outputs": [],
   "source": []
  }
 ],
 "metadata": {
  "kernelspec": {
   "display_name": "Python 3 (ipykernel)",
   "language": "python",
   "name": "python3"
  },
  "language_info": {
   "codemirror_mode": {
    "name": "ipython",
    "version": 3
   },
   "file_extension": ".py",
   "mimetype": "text/x-python",
   "name": "python",
   "nbconvert_exporter": "python",
   "pygments_lexer": "ipython3",
   "version": "3.12.3"
  }
 },
 "nbformat": 4,
 "nbformat_minor": 5
}
